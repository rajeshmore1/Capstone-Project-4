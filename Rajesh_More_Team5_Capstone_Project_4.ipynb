{
  "nbformat": 4,
  "nbformat_minor": 0,
  "metadata": {
    "kernelspec": {
      "display_name": "Python 3",
      "language": "python",
      "name": "python3"
    },
    "language_info": {
      "codemirror_mode": {
        "name": "ipython",
        "version": 3
      },
      "file_extension": ".py",
      "mimetype": "text/x-python",
      "name": "python",
      "nbconvert_exporter": "python",
      "pygments_lexer": "ipython3",
      "version": "3.6.6"
    },
    "colab": {
      "name": "Rajesh More-Team5-Capstone Project 4.ipynb",
      "provenance": [],
      "collapsed_sections": [],
      "include_colab_link": true
    }
  },
  "cells": [
    {
      "cell_type": "markdown",
      "metadata": {
        "id": "view-in-github",
        "colab_type": "text"
      },
      "source": [
        "<a href=\"https://colab.research.google.com/github/rajeshmore1/Capstone-Project-4/blob/main/Rajesh_More_Team5_Capstone_Project_4.ipynb\" target=\"_parent\"><img src=\"https://colab.research.google.com/assets/colab-badge.svg\" alt=\"Open In Colab\"/></a>"
      ]
    },
    {
      "cell_type": "markdown",
      "metadata": {
        "id": "tOGC-qoyhJeX"
      },
      "source": [
        "# <b><u> Project Title : Predict whether a startup will get funded in the next three months. </u></b>"
      ]
    },
    {
      "cell_type": "markdown",
      "metadata": {
        "id": "Y06xIdG26kRF"
      },
      "source": [
        "## <b> Problem Description </b>\n",
        "\n",
        "### There has been a staggering growth in investments in young age startups in the last 5 years. A lot of big VC firms are increasingly getting interested in the startup funding space. You are given a task to predict whether a startup will get a funding in the next three months using app traction data and startup details. \n",
        "\n",
        "### This funding can be either seed funding, Series A, Series B, so on and so forth. \n"
      ]
    },
    {
      "cell_type": "markdown",
      "metadata": {
        "id": "AlLxAtlziMbP"
      },
      "source": [
        "## <b> Data Description </b>\r\n",
        "\r\n",
        "### In the file, you have monthly data for the startup entities which contains information about various app traction performance.\r\n",
        "\r\n",
        "### <b> In the given data, you have the following variables:\r\n",
        "* ### UUID - Unique Identifier for a single startup entity\r\n",
        "* ### Month - Month for which the app data is available\r\n",
        "* ### Application category - The category to which an application belongs to\r\n",
        "* ### Avg Session Time - Average time of the session in app during the month\r\n",
        "* ### Total Session Time - Avg session time / user x Open rate = Total session time\r\n",
        "* ### Open_rate - No of times app has been opened by a user\r\n",
        "* ### Reach - % of devices having the app installed\r\n",
        "* ### Funding_ind - Indicator for a funded startup\r\n",
        "\r\n",
        "## <b>Following variables are only available for funded startups:</b>\r\n",
        "* ### Business models -  The business model of the startup                            \r\n",
        "* ### City - the city where the startup is based out of\r\n",
        "* ### Company Stage - the stage of the company\r\n",
        "* ### Feed name - \r\n",
        "* ### Founded year - The year in which the startup was founded\r\n",
        "* ### Latest funded date - The latest date in which the startup was funded\r\n",
        "* ### MAU - % of reach which opened the app in the given month( Monthly Active Users)\r\n",
        "* ### Overview - Overview of the startup\r\n",
        "* ### Practice Areas - \r\n",
        "* ### Region - Region where the startup operates\r\n",
        "* ### Total Funding - Total amount of funding till the month\r\n",
        "* ### Uninstall Rate - Rate of uninstall of applications.\r\n",
        "\r\n"
      ]
    },
    {
      "cell_type": "code",
      "metadata": {
        "id": "mH8Lrf_N0ILc"
      },
      "source": [
        "import pandas as pd\r\n",
        "import numpy as np\r\n",
        "from numpy import percentile\r\n",
        "import matplotlib.pyplot as plt\r\n",
        "import seaborn as sns\r\n",
        "import matplotlib\r\n",
        "import re # for regular expressions"
      ],
      "execution_count": null,
      "outputs": []
    },
    {
      "cell_type": "code",
      "metadata": {
        "colab": {
          "base_uri": "https://localhost:8080/"
        },
        "id": "LGDCpQi89ViG",
        "outputId": "e579bd48-f4b0-4ffd-8ff8-01795e536576"
      },
      "source": [
        "from google.colab import drive\r\n",
        "drive.mount('/content/drive')"
      ],
      "execution_count": null,
      "outputs": [
        {
          "output_type": "stream",
          "text": [
            "Mounted at /content/drive\n"
          ],
          "name": "stdout"
        }
      ]
    },
    {
      "cell_type": "code",
      "metadata": {
        "id": "U3YenYUW9cIq"
      },
      "source": [
        "working_dir_path = '/content/drive/MyDrive/AlmaBetter/Cohort Aravali/Module 4/Week 4/Day 1/Copy of data_driven_investment_1.csv'\r\n",
        "df = pd.read_csv(working_dir_path)"
      ],
      "execution_count": null,
      "outputs": []
    },
    {
      "cell_type": "markdown",
      "metadata": {
        "id": "gm5uYYEZott-"
      },
      "source": [
        "# Hypothesis"
      ]
    },
    {
      "cell_type": "markdown",
      "metadata": {
        "id": "-E0RClnxoxQc"
      },
      "source": [
        "1. Generally people spend more time on the app which they like the most. So the popularity of business or app is directly propotional to the average time spend on app.\r\n",
        "2.  The people must have good engagement ratio on apps or companies which already got some kind of fund.As if we consider the start ups which already recieved funds are well researched by the angel investors. Already funded startups have more resources to invest on multiple features on app and can can provide greater user/client happiness score.\r\n",
        "3.  Uninstall rate(Churn rate) suggest us that initially users are attracted by the promises made by the companies/start-ups, hence they downloaded the app but later they uninstalled it. The reason might be, inter-alia, startup did not able to stand on their expectations.\r\n",
        "4. "
      ]
    },
    {
      "cell_type": "code",
      "metadata": {
        "colab": {
          "base_uri": "https://localhost:8080/",
          "height": 309
        },
        "id": "lutMA-sB94kE",
        "outputId": "3d9e68bc-c065-4df3-cb3a-3b39304135a8"
      },
      "source": [
        "df.head()"
      ],
      "execution_count": null,
      "outputs": [
        {
          "output_type": "execute_result",
          "data": {
            "text/html": [
              "<div>\n",
              "<style scoped>\n",
              "    .dataframe tbody tr th:only-of-type {\n",
              "        vertical-align: middle;\n",
              "    }\n",
              "\n",
              "    .dataframe tbody tr th {\n",
              "        vertical-align: top;\n",
              "    }\n",
              "\n",
              "    .dataframe thead th {\n",
              "        text-align: right;\n",
              "    }\n",
              "</style>\n",
              "<table border=\"1\" class=\"dataframe\">\n",
              "  <thead>\n",
              "    <tr style=\"text-align: right;\">\n",
              "      <th></th>\n",
              "      <th>UUID</th>\n",
              "      <th>month</th>\n",
              "      <th>Application Category</th>\n",
              "      <th>Avg_Session_Time</th>\n",
              "      <th>Business Models</th>\n",
              "      <th>City</th>\n",
              "      <th>Company Stage</th>\n",
              "      <th>Feed Name</th>\n",
              "      <th>Founded Year</th>\n",
              "      <th>Latest Funded Date</th>\n",
              "      <th>MAU</th>\n",
              "      <th>Open_Rate</th>\n",
              "      <th>Overview</th>\n",
              "      <th>Practice Areas</th>\n",
              "      <th>Reach</th>\n",
              "      <th>Region</th>\n",
              "      <th>Total Funding (USD)</th>\n",
              "      <th>Total_Session_Time</th>\n",
              "      <th>Uninstall_Rate</th>\n",
              "      <th>funding_ind</th>\n",
              "    </tr>\n",
              "  </thead>\n",
              "  <tbody>\n",
              "    <tr>\n",
              "      <th>0</th>\n",
              "      <td>c1ad38e2d357610c129657d870ede902e8abfcb9</td>\n",
              "      <td>20180801</td>\n",
              "      <td>Books &amp; Reference</td>\n",
              "      <td>NaN</td>\n",
              "      <td>NaN</td>\n",
              "      <td>NaN</td>\n",
              "      <td>NaN</td>\n",
              "      <td>NaN</td>\n",
              "      <td>NaN</td>\n",
              "      <td>NaN</td>\n",
              "      <td>NaN</td>\n",
              "      <td>NaN</td>\n",
              "      <td>NaN</td>\n",
              "      <td>NaN</td>\n",
              "      <td>0.042963</td>\n",
              "      <td>National</td>\n",
              "      <td>NaN</td>\n",
              "      <td>NaN</td>\n",
              "      <td>0.024443</td>\n",
              "      <td>0</td>\n",
              "    </tr>\n",
              "    <tr>\n",
              "      <th>1</th>\n",
              "      <td>d841e670d9191f896a0cbc75961920887b375756</td>\n",
              "      <td>20180801</td>\n",
              "      <td>Books &amp; Reference</td>\n",
              "      <td>NaN</td>\n",
              "      <td>NaN</td>\n",
              "      <td>NaN</td>\n",
              "      <td>NaN</td>\n",
              "      <td>NaN</td>\n",
              "      <td>NaN</td>\n",
              "      <td>NaN</td>\n",
              "      <td>NaN</td>\n",
              "      <td>NaN</td>\n",
              "      <td>NaN</td>\n",
              "      <td>NaN</td>\n",
              "      <td>0.003244</td>\n",
              "      <td>National</td>\n",
              "      <td>NaN</td>\n",
              "      <td>NaN</td>\n",
              "      <td>0.009828</td>\n",
              "      <td>0</td>\n",
              "    </tr>\n",
              "    <tr>\n",
              "      <th>2</th>\n",
              "      <td>0a59d138b3eaccd22b665eae70c756fef83ddb63</td>\n",
              "      <td>20180801</td>\n",
              "      <td>Finance</td>\n",
              "      <td>NaN</td>\n",
              "      <td>NaN</td>\n",
              "      <td>NaN</td>\n",
              "      <td>NaN</td>\n",
              "      <td>NaN</td>\n",
              "      <td>NaN</td>\n",
              "      <td>NaN</td>\n",
              "      <td>NaN</td>\n",
              "      <td>NaN</td>\n",
              "      <td>NaN</td>\n",
              "      <td>NaN</td>\n",
              "      <td>0.000161</td>\n",
              "      <td>National</td>\n",
              "      <td>NaN</td>\n",
              "      <td>NaN</td>\n",
              "      <td>0.235294</td>\n",
              "      <td>0</td>\n",
              "    </tr>\n",
              "    <tr>\n",
              "      <th>3</th>\n",
              "      <td>0a59d138b3eaccd22b665eae70c756fef83ddb63</td>\n",
              "      <td>20180801</td>\n",
              "      <td>Books &amp; Reference</td>\n",
              "      <td>NaN</td>\n",
              "      <td>NaN</td>\n",
              "      <td>NaN</td>\n",
              "      <td>NaN</td>\n",
              "      <td>NaN</td>\n",
              "      <td>NaN</td>\n",
              "      <td>NaN</td>\n",
              "      <td>NaN</td>\n",
              "      <td>NaN</td>\n",
              "      <td>NaN</td>\n",
              "      <td>NaN</td>\n",
              "      <td>0.000077</td>\n",
              "      <td>National</td>\n",
              "      <td>NaN</td>\n",
              "      <td>NaN</td>\n",
              "      <td>0.350000</td>\n",
              "      <td>0</td>\n",
              "    </tr>\n",
              "    <tr>\n",
              "      <th>4</th>\n",
              "      <td>df5fb9891f77df24a91d039f1817c6c4e79244ef</td>\n",
              "      <td>20180801</td>\n",
              "      <td>Productivity</td>\n",
              "      <td>NaN</td>\n",
              "      <td>NaN</td>\n",
              "      <td>NaN</td>\n",
              "      <td>NaN</td>\n",
              "      <td>NaN</td>\n",
              "      <td>NaN</td>\n",
              "      <td>NaN</td>\n",
              "      <td>NaN</td>\n",
              "      <td>NaN</td>\n",
              "      <td>NaN</td>\n",
              "      <td>NaN</td>\n",
              "      <td>0.000939</td>\n",
              "      <td>National</td>\n",
              "      <td>NaN</td>\n",
              "      <td>NaN</td>\n",
              "      <td>0.312500</td>\n",
              "      <td>0</td>\n",
              "    </tr>\n",
              "  </tbody>\n",
              "</table>\n",
              "</div>"
            ],
            "text/plain": [
              "                                       UUID  ...  funding_ind\n",
              "0  c1ad38e2d357610c129657d870ede902e8abfcb9  ...            0\n",
              "1  d841e670d9191f896a0cbc75961920887b375756  ...            0\n",
              "2  0a59d138b3eaccd22b665eae70c756fef83ddb63  ...            0\n",
              "3  0a59d138b3eaccd22b665eae70c756fef83ddb63  ...            0\n",
              "4  df5fb9891f77df24a91d039f1817c6c4e79244ef  ...            0\n",
              "\n",
              "[5 rows x 20 columns]"
            ]
          },
          "metadata": {
            "tags": []
          },
          "execution_count": 4
        }
      ]
    },
    {
      "cell_type": "code",
      "metadata": {
        "colab": {
          "base_uri": "https://localhost:8080/"
        },
        "id": "8fENnxLRBKS1",
        "outputId": "a194cd95-3372-46ed-e5dd-d5d593bbfaea"
      },
      "source": [
        "df.shape"
      ],
      "execution_count": null,
      "outputs": [
        {
          "output_type": "execute_result",
          "data": {
            "text/plain": [
              "(1502175, 20)"
            ]
          },
          "metadata": {
            "tags": []
          },
          "execution_count": 6
        }
      ]
    },
    {
      "cell_type": "code",
      "metadata": {
        "colab": {
          "base_uri": "https://localhost:8080/"
        },
        "id": "s3-6DxcJCmov",
        "outputId": "9431637c-2086-4d04-dea4-699f096843e3"
      },
      "source": [
        "duplicate = df[df.duplicated()] \r\n",
        "duplicate.head()\r\n",
        "duplicate.shape"
      ],
      "execution_count": null,
      "outputs": [
        {
          "output_type": "execute_result",
          "data": {
            "text/plain": [
              "(89412, 20)"
            ]
          },
          "metadata": {
            "tags": []
          },
          "execution_count": 18
        }
      ]
    },
    {
      "cell_type": "code",
      "metadata": {
        "colab": {
          "base_uri": "https://localhost:8080/"
        },
        "id": "bLCnbm9ZH5GW",
        "outputId": "c53507e8-1412-40a2-9ef4-f32ce9187797"
      },
      "source": [
        "df['funding_ind'].value_counts()"
      ],
      "execution_count": null,
      "outputs": [
        {
          "output_type": "execute_result",
          "data": {
            "text/plain": [
              "0    1499761\n",
              "1       2414\n",
              "Name: funding_ind, dtype: int64"
            ]
          },
          "metadata": {
            "tags": []
          },
          "execution_count": 57
        }
      ]
    },
    {
      "cell_type": "code",
      "metadata": {
        "colab": {
          "base_uri": "https://localhost:8080/"
        },
        "id": "mblJ3jdHHxUV",
        "outputId": "5e9c153a-b6d2-4d86-fcdf-a985801c3c94"
      },
      "source": [
        "df['Uninstall_Rate'].min()"
      ],
      "execution_count": null,
      "outputs": [
        {
          "output_type": "execute_result",
          "data": {
            "text/plain": [
              "0.0"
            ]
          },
          "metadata": {
            "tags": []
          },
          "execution_count": 56
        }
      ]
    },
    {
      "cell_type": "code",
      "metadata": {
        "colab": {
          "base_uri": "https://localhost:8080/"
        },
        "id": "z5544nf4HtHc",
        "outputId": "9d28783b-991b-44d6-ef1b-8a373375e306"
      },
      "source": [
        "df['Uninstall_Rate'].max()"
      ],
      "execution_count": null,
      "outputs": [
        {
          "output_type": "execute_result",
          "data": {
            "text/plain": [
              "1.0"
            ]
          },
          "metadata": {
            "tags": []
          },
          "execution_count": 55
        }
      ]
    },
    {
      "cell_type": "code",
      "metadata": {
        "colab": {
          "base_uri": "https://localhost:8080/"
        },
        "id": "K__2LM1YHonR",
        "outputId": "447ad69a-c353-4d63-d7e3-4f8f72fe9dc7"
      },
      "source": [
        "df['Uninstall_Rate'].value_counts()"
      ],
      "execution_count": null,
      "outputs": [
        {
          "output_type": "execute_result",
          "data": {
            "text/plain": [
              "0.000000    18909\n",
              "0.200000     2442\n",
              "0.125000     2434\n",
              "0.250000     2194\n",
              "0.142857     1903\n",
              "            ...  \n",
              "0.050370        1\n",
              "0.370518        1\n",
              "0.145763        1\n",
              "0.060314        1\n",
              "0.150709        1\n",
              "Name: Uninstall_Rate, Length: 74284, dtype: int64"
            ]
          },
          "metadata": {
            "tags": []
          },
          "execution_count": 54
        }
      ]
    },
    {
      "cell_type": "code",
      "metadata": {
        "colab": {
          "base_uri": "https://localhost:8080/"
        },
        "id": "lOHK5xdhHjIr",
        "outputId": "b9c18ce5-9e59-4760-cec1-1fd04383f8de"
      },
      "source": [
        "df['Total_Session_Time'].min()"
      ],
      "execution_count": null,
      "outputs": [
        {
          "output_type": "execute_result",
          "data": {
            "text/plain": [
              "3.333333333333333e-05"
            ]
          },
          "metadata": {
            "tags": []
          },
          "execution_count": 53
        }
      ]
    },
    {
      "cell_type": "code",
      "metadata": {
        "colab": {
          "base_uri": "https://localhost:8080/"
        },
        "id": "8zvePV1uHgCy",
        "outputId": "b50901d3-111c-4dd9-947f-f58278428af1"
      },
      "source": [
        "df['Total_Session_Time'].max()"
      ],
      "execution_count": null,
      "outputs": [
        {
          "output_type": "execute_result",
          "data": {
            "text/plain": [
              "149.98331666666667"
            ]
          },
          "metadata": {
            "tags": []
          },
          "execution_count": 52
        }
      ]
    },
    {
      "cell_type": "code",
      "metadata": {
        "colab": {
          "base_uri": "https://localhost:8080/"
        },
        "id": "yKqnuFAqHWl6",
        "outputId": "68d0be9a-b44e-4746-e5d3-69b8fae8cff8"
      },
      "source": [
        "df['Total_Session_Time'].value_counts()\t"
      ],
      "execution_count": null,
      "outputs": [
        {
          "output_type": "execute_result",
          "data": {
            "text/plain": [
              "0.034450     13\n",
              "0.013100     13\n",
              "0.010083     12\n",
              "0.005000     12\n",
              "0.008200     12\n",
              "             ..\n",
              "6.681837      1\n",
              "3.712097      1\n",
              "33.341490     1\n",
              "3.513405      1\n",
              "23.377093     1\n",
              "Name: Total_Session_Time, Length: 815087, dtype: int64"
            ]
          },
          "metadata": {
            "tags": []
          },
          "execution_count": 51
        }
      ]
    },
    {
      "cell_type": "code",
      "metadata": {
        "colab": {
          "base_uri": "https://localhost:8080/"
        },
        "id": "FrzQz5sBHMYu",
        "outputId": "fb0ea275-b18e-452e-c714-34f0f447dfb2"
      },
      "source": [
        "df['Total Funding (USD)'].min()"
      ],
      "execution_count": null,
      "outputs": [
        {
          "output_type": "execute_result",
          "data": {
            "text/plain": [
              "62.0"
            ]
          },
          "metadata": {
            "tags": []
          },
          "execution_count": 50
        }
      ]
    },
    {
      "cell_type": "code",
      "metadata": {
        "colab": {
          "base_uri": "https://localhost:8080/"
        },
        "id": "jYG6MulZVWGZ",
        "outputId": "bb2ff525-d244-4f91-9fca-7cc865cc269e"
      },
      "source": [
        "df['Total Funding (USD)'].isna().sum()"
      ],
      "execution_count": null,
      "outputs": [
        {
          "output_type": "execute_result",
          "data": {
            "text/plain": [
              "0          True\n",
              "1          True\n",
              "2          True\n",
              "3          True\n",
              "4          True\n",
              "           ... \n",
              "1502170    True\n",
              "1502171    True\n",
              "1502172    True\n",
              "1502173    True\n",
              "1502174    True\n",
              "Name: Total Funding (USD), Length: 1502175, dtype: bool"
            ]
          },
          "metadata": {
            "tags": []
          },
          "execution_count": 58
        }
      ]
    },
    {
      "cell_type": "code",
      "metadata": {
        "colab": {
          "base_uri": "https://localhost:8080/"
        },
        "id": "UzpclUe6HBmT",
        "outputId": "7d6b7761-6e29-4bba-f148-cbed5b469b9b"
      },
      "source": [
        "df['Total Funding (USD)'].max()"
      ],
      "execution_count": null,
      "outputs": [
        {
          "output_type": "execute_result",
          "data": {
            "text/plain": [
              "7201429984.0"
            ]
          },
          "metadata": {
            "tags": []
          },
          "execution_count": 49
        }
      ]
    },
    {
      "cell_type": "code",
      "metadata": {
        "colab": {
          "base_uri": "https://localhost:8080/"
        },
        "id": "6j3-F12mG0MY",
        "outputId": "56889be7-52c1-49e3-d9e0-76e3d59ec75b"
      },
      "source": [
        "df['Total Funding (USD)'].value_counts()"
      ],
      "execution_count": null,
      "outputs": [
        {
          "output_type": "execute_result",
          "data": {
            "text/plain": [
              "2014807.0     232\n",
              "35000000.0    124\n",
              "305232.0      117\n",
              "2065636.0     113\n",
              "16000000.0    110\n",
              "             ... \n",
              "680316.0        1\n",
              "45123413.0      1\n",
              "2800000.0       1\n",
              "29769403.0      1\n",
              "5152755.0       1\n",
              "Name: Total Funding (USD), Length: 301, dtype: int64"
            ]
          },
          "metadata": {
            "tags": []
          },
          "execution_count": 48
        }
      ]
    },
    {
      "cell_type": "code",
      "metadata": {
        "colab": {
          "base_uri": "https://localhost:8080/"
        },
        "id": "TgNp4twoGdS0",
        "outputId": "d829c6e6-61f5-4241-bd0d-1ccb822933df"
      },
      "source": [
        "df['Region'].value_counts()"
      ],
      "execution_count": null,
      "outputs": [
        {
          "output_type": "execute_result",
          "data": {
            "text/plain": [
              "National    1502175\n",
              "Name: Region, dtype: int64"
            ]
          },
          "metadata": {
            "tags": []
          },
          "execution_count": 42
        }
      ]
    },
    {
      "cell_type": "code",
      "metadata": {
        "colab": {
          "base_uri": "https://localhost:8080/"
        },
        "id": "_9Sni85KGKqB",
        "outputId": "67c6b0fa-5778-417d-c127-48213d5e9cc9"
      },
      "source": [
        "df['Reach'].unique()"
      ],
      "execution_count": null,
      "outputs": [
        {
          "output_type": "execute_result",
          "data": {
            "text/plain": [
              "array([0.04296326, 0.00324441, 0.00016134, ..., 0.00115337, 0.00079944,\n",
              "       0.00349757])"
            ]
          },
          "metadata": {
            "tags": []
          },
          "execution_count": 40
        }
      ]
    },
    {
      "cell_type": "code",
      "metadata": {
        "colab": {
          "base_uri": "https://localhost:8080/"
        },
        "id": "UDy-vrL8F7-2",
        "outputId": "dddb08a0-6e94-4af7-c39b-b11a158b514e"
      },
      "source": [
        "df['Practice Areas'].isna().sum()"
      ],
      "execution_count": null,
      "outputs": [
        {
          "output_type": "execute_result",
          "data": {
            "text/plain": [
              "1499761"
            ]
          },
          "metadata": {
            "tags": []
          },
          "execution_count": 37
        }
      ]
    },
    {
      "cell_type": "code",
      "metadata": {
        "colab": {
          "base_uri": "https://localhost:8080/"
        },
        "id": "rr-vlhUYFxFv",
        "outputId": "4aad0a68-6316-4111-a605-361d3c21ef9b"
      },
      "source": [
        "df['Practice Areas'].value_counts()"
      ],
      "execution_count": null,
      "outputs": [
        {
          "output_type": "execute_result",
          "data": {
            "text/plain": [
              "FinTech                                    306\n",
              "Consumer\\nMedia & Entertainment\\nEdTech    233\n",
              "Media & Entertainment                      133\n",
              "EdTech\\nEdTech\\nAccelerator Batches        120\n",
              "Consumer                                   117\n",
              "                                          ... \n",
              "HealthTech\\nCovid-19\\nConsumer               1\n",
              "Technology                                   1\n",
              "Consumer\\nAuto Tech\\nFinTech\\nInsurTech      1\n",
              "FinTech\\nEdTech\\nFinancial Services          1\n",
              "Consumer\\nEdTech                             1\n",
              "Name: Practice Areas, Length: 132, dtype: int64"
            ]
          },
          "metadata": {
            "tags": []
          },
          "execution_count": 43
        }
      ]
    },
    {
      "cell_type": "code",
      "metadata": {
        "colab": {
          "base_uri": "https://localhost:8080/"
        },
        "id": "5VX-jieHFj85",
        "outputId": "78f17912-e5a7-48da-8afa-e634b409c63c"
      },
      "source": [
        "df['Overview'].value_counts()"
      ],
      "execution_count": null,
      "outputs": [
        {
          "output_type": "execute_result",
          "data": {
            "text/plain": [
              "Q&A-based education community                                           232\n",
              "Local news video streaming platform                                     121\n",
              "Online marketplace for study material                                   117\n",
              "Manufactures and supplies cold pressed juice for women's health         113\n",
              "App-based online marketplace for video commerce                         107\n",
              "                                                                       ... \n",
              "Online fantasy platform for multi-category sports                         1\n",
              "AI based personal mobile assistant with support for Indian languages      1\n",
              "Online marketplace for intercity freight transportation                   1\n",
              "B2B platform to procure the food ingredients                              1\n",
              "Blended online and offline courses for healthcare professionals           1\n",
              "Name: Overview, Length: 323, dtype: int64"
            ]
          },
          "metadata": {
            "tags": []
          },
          "execution_count": 44
        }
      ]
    },
    {
      "cell_type": "code",
      "metadata": {
        "colab": {
          "base_uri": "https://localhost:8080/"
        },
        "id": "QvZp7p5zFRYk",
        "outputId": "4e880722-6baa-4ba0-befa-658734991593"
      },
      "source": [
        "df['Open_Rate'].value_counts()"
      ],
      "execution_count": null,
      "outputs": [
        {
          "output_type": "execute_result",
          "data": {
            "text/plain": [
              "1.000000     108832\n",
              "2.000000      64190\n",
              "3.000000      36290\n",
              "4.000000      22059\n",
              "5.000000      13532\n",
              "              ...  \n",
              "2.550039          1\n",
              "13.959097         1\n",
              "4.357553          1\n",
              "1.940816          1\n",
              "7.579942          1\n",
              "Name: Open_Rate, Length: 172913, dtype: int64"
            ]
          },
          "metadata": {
            "tags": []
          },
          "execution_count": 45
        }
      ]
    },
    {
      "cell_type": "code",
      "metadata": {
        "colab": {
          "base_uri": "https://localhost:8080/"
        },
        "id": "rsq__UwIFDtv",
        "outputId": "832d61ce-8fd4-4f45-946c-8fa63b0799d3"
      },
      "source": [
        "df['MAU'].value_counts()"
      ],
      "execution_count": null,
      "outputs": [
        {
          "output_type": "execute_result",
          "data": {
            "text/plain": [
              "0.500000    3556\n",
              "0.333333    2690\n",
              "0.250000    2181\n",
              "0.200000    1529\n",
              "0.400000    1470\n",
              "            ... \n",
              "0.751445       1\n",
              "0.112319       1\n",
              "0.750929       1\n",
              "0.311669       1\n",
              "0.702465       1\n",
              "Name: MAU, Length: 30516, dtype: int64"
            ]
          },
          "metadata": {
            "tags": []
          },
          "execution_count": 28
        }
      ]
    },
    {
      "cell_type": "code",
      "metadata": {
        "colab": {
          "base_uri": "https://localhost:8080/"
        },
        "id": "mLMOCiKvEmrR",
        "outputId": "98dc5e41-aea1-4852-9d53-a297fb704f09"
      },
      "source": [
        "df['Latest Funded Date'].value_counts()"
      ],
      "execution_count": null,
      "outputs": [
        {
          "output_type": "execute_result",
          "data": {
            "text/plain": [
              "2020-09-25    232\n",
              "2020-05-27    224\n",
              "2020-09-30    122\n",
              "2020-01-18    116\n",
              "2020-02-14    107\n",
              "             ... \n",
              "2020-09-22      1\n",
              "2019-12-13      1\n",
              "2020-09-29      1\n",
              "2019-12-12      1\n",
              "2020-02-12      1\n",
              "Name: Latest Funded Date, Length: 240, dtype: int64"
            ]
          },
          "metadata": {
            "tags": []
          },
          "execution_count": 26
        }
      ]
    },
    {
      "cell_type": "code",
      "metadata": {
        "colab": {
          "base_uri": "https://localhost:8080/"
        },
        "id": "sA3tjS3mE5T_",
        "outputId": "9bf446cf-ca06-4a69-e548-58a85a875715"
      },
      "source": [
        "df['Latest Funded Date'].value_counts().sum()"
      ],
      "execution_count": null,
      "outputs": [
        {
          "output_type": "execute_result",
          "data": {
            "text/plain": [
              "2414"
            ]
          },
          "metadata": {
            "tags": []
          },
          "execution_count": 27
        }
      ]
    },
    {
      "cell_type": "code",
      "metadata": {
        "colab": {
          "base_uri": "https://localhost:8080/"
        },
        "id": "2N7akpzOEWUx",
        "outputId": "ae9751ed-cf7f-46a2-8aa6-dc845cf2c0ab"
      },
      "source": [
        "df['Founded Year'].isna().sum()"
      ],
      "execution_count": null,
      "outputs": [
        {
          "output_type": "execute_result",
          "data": {
            "text/plain": [
              "1499761"
            ]
          },
          "metadata": {
            "tags": []
          },
          "execution_count": 23
        }
      ]
    },
    {
      "cell_type": "code",
      "metadata": {
        "colab": {
          "base_uri": "https://localhost:8080/"
        },
        "id": "nlodzap0EOVn",
        "outputId": "326bca72-22cd-4906-d8e4-e09db5227b12"
      },
      "source": [
        "df['Founded Year'].value_counts()"
      ],
      "execution_count": null,
      "outputs": [
        {
          "output_type": "execute_result",
          "data": {
            "text/plain": [
              "2018.0    426\n",
              "2016.0    412\n",
              "2015.0    346\n",
              "2014.0    306\n",
              "2017.0    232\n",
              "2019.0    160\n",
              "2011.0    110\n",
              "2013.0     91\n",
              "2012.0     88\n",
              "2000.0     69\n",
              "2010.0     51\n",
              "2009.0     51\n",
              "2008.0     42\n",
              "2020.0      8\n",
              "2006.0      6\n",
              "2007.0      6\n",
              "1995.0      6\n",
              "1984.0      2\n",
              "2004.0      1\n",
              "1983.0      1\n",
              "Name: Founded Year, dtype: int64"
            ]
          },
          "metadata": {
            "tags": []
          },
          "execution_count": 21
        }
      ]
    },
    {
      "cell_type": "code",
      "metadata": {
        "colab": {
          "base_uri": "https://localhost:8080/"
        },
        "id": "5nu6rFIgECzH",
        "outputId": "54027f19-0028-48c0-8e36-dcd7ed6342f6"
      },
      "source": [
        "df['Feed Name'].value_counts()"
      ],
      "execution_count": null,
      "outputs": [
        {
          "output_type": "execute_result",
          "data": {
            "text/plain": [
              "Social Platforms\\nTest Preparation Tech                                          233\n",
              "OTT Video                                                                        124\n",
              "K-12 EdTech\\nTest Preparation Tech\\nY Combinator Batches                         117\n",
              "Food & Beverage Products                                                         113\n",
              "Cryptocurrencies                                                                 107\n",
              "                                                                                ... \n",
              "Horizontal E-Commerce\\nInfluencer E-Commerce\\nVideo Commerce\\nSurge Batches        1\n",
              "Pre-K EdTech\\nExtreme Entrepreneurs Batches                                        1\n",
              "Alternative Lending\\nCrop Tech                                                     1\n",
              "Mom & Baby Care\\nPre-K EdTech                                                      1\n",
              "Customer Service Software\\nLocal Services\\nInternet First Insurance Platforms      1\n",
              "Name: Feed Name, Length: 180, dtype: int64"
            ]
          },
          "metadata": {
            "tags": []
          },
          "execution_count": 20
        }
      ]
    },
    {
      "cell_type": "code",
      "metadata": {
        "colab": {
          "base_uri": "https://localhost:8080/"
        },
        "id": "AE9IIo6bD4Fy",
        "outputId": "acd009c0-db3e-45ec-8009-a087ee9c3055"
      },
      "source": [
        "df['Company Stage'].value_counts()"
      ],
      "execution_count": null,
      "outputs": [
        {
          "output_type": "execute_result",
          "data": {
            "text/plain": [
              "Seed        1116\n",
              "Series A     344\n",
              "Series B     339\n",
              "Series C     277\n",
              "Series D     158\n",
              "Acquired      49\n",
              "Series I      37\n",
              "Series H      36\n",
              "Series F      35\n",
              "Series E      16\n",
              "Funded         4\n",
              "Series G       3\n",
              "Name: Company Stage, dtype: int64"
            ]
          },
          "metadata": {
            "tags": []
          },
          "execution_count": 19
        }
      ]
    },
    {
      "cell_type": "code",
      "metadata": {
        "colab": {
          "base_uri": "https://localhost:8080/"
        },
        "id": "c2SoCzDVCe6y",
        "outputId": "068f6c48-39ca-4fac-b606-459f95960ab4"
      },
      "source": [
        "df['UUID'].value_counts()"
      ],
      "execution_count": null,
      "outputs": [
        {
          "output_type": "execute_result",
          "data": {
            "text/plain": [
              "4e5ad248d207eaf680153dbbf3b2f5bdf3fa6f27    2671\n",
              "a8febb4b767f83022235f3f34a2241ed1e13db2f    1778\n",
              "524889f05a60933210abde13d9db9211986698ac    1575\n",
              "061d769832ed6fa2e6f5f7923348f7f074e6aa91    1531\n",
              "10a07f3aa16935a1b5a79c0d19bf5e4044cd5f21    1282\n",
              "                                            ... \n",
              "505bd279be3bc56861dc2826f80b583949feab12       1\n",
              "b5e13df44e7172d9b33fe8b711f73a034a2ae8eb       1\n",
              "3912606f4476bb8b2bfcbec6e1ce98a636547b72       1\n",
              "b8d14b0db8ff0e02b4622a95f38ddd285025662a       1\n",
              "fde98aa41356dbc3166f8b51a80db4a81dcd6686       1\n",
              "Name: UUID, Length: 147741, dtype: int64"
            ]
          },
          "metadata": {
            "tags": []
          },
          "execution_count": 11
        }
      ]
    },
    {
      "cell_type": "code",
      "metadata": {
        "colab": {
          "base_uri": "https://localhost:8080/"
        },
        "id": "2YK3f-TcCLSq",
        "outputId": "cd31c1fe-6a17-40e1-8e0b-3d4ab2bf023e"
      },
      "source": [
        "df['City'].value_counts()"
      ],
      "execution_count": null,
      "outputs": [
        {
          "output_type": "execute_result",
          "data": {
            "text/plain": [
              "Bangalore                   686\n",
              "Gurgaon                     526\n",
              "Delhi                       475\n",
              "Mumbai                      356\n",
              "Kingstown\\nMumbai           107\n",
              "Pune                         69\n",
              "Noida                        35\n",
              "Hyderabad                    31\n",
              "Chennai                      21\n",
              "San Mateo\\nChennai           21\n",
              "Ahmedabad                    16\n",
              "Kolkata                       7\n",
              "Jaipur                        7\n",
              "Kota                          6\n",
              "Dublin\\nBangalore             6\n",
              "Singapore\\nGurgaon            5\n",
              "Bhopal                        3\n",
              "Bangalore\\nMumbai             3\n",
              "London                        3\n",
              "Panaji                        3\n",
              "Hangzhou\\nDelhi               3\n",
              "San Francisco\\nBangalore      3\n",
              "Singapore\\nBangalore          3\n",
              "Coimbatore                    3\n",
              "Fremont\\nMumbai               2\n",
              "Kochi                         2\n",
              "Chicago\\nNoida                2\n",
              "Kanpur                        1\n",
              "Faridabad                     1\n",
              "London\\nNoida                 1\n",
              "Name: City, dtype: int64"
            ]
          },
          "metadata": {
            "tags": []
          },
          "execution_count": 10
        }
      ]
    },
    {
      "cell_type": "code",
      "metadata": {
        "colab": {
          "base_uri": "https://localhost:8080/"
        },
        "id": "evc8Mhd9B9bJ",
        "outputId": "1fb89b16-ac27-4b37-e55b-1cf38fdbc22c"
      },
      "source": [
        "df['Business Models'].value_counts()"
      ],
      "execution_count": null,
      "outputs": [
        {
          "output_type": "execute_result",
          "data": {
            "text/plain": [
              "Social Platforms > Interest Based > Education > Higher Education > Q&A Platforms\\nTest Preparation Tech > Digital Learning > Diversified > Self-Paced                                                                              232\n",
              "OTT Video > OTT Streaming Platforms > Video On Demand (VOD) > News                                                                                                                                                                 124\n",
              "K-12 EdTech > B2C Learning Solutions > School Curriculum > Multi Subject > Horizontal\\nTest Preparation Tech > Digital Learning > Diversified > Self-Paced\\nY Combinator Batches > 2020 > Winter                                   117\n",
              "Food & Beverage Products > Beverages > Juices and Dilutables > Juices > Cold-pressed                                                                                                                                               113\n",
              "Influencer E-Commerce > Live Video\\nVideo Commerce > Live Stream Commerce                                                                                                                                                          107\n",
              "                                                                                                                                                                                                                                  ... \n",
              "Vernacular Platforms > News Aggregators > Textual Content > Curated Content\\nInternet First Media > News Portals > Aggregators > Summaries                                                                                           1\n",
              "Vernacular Platforms > Education > Continuous Learning > Programming\\nContinued Learning > Professional > Online Learning > IT Education > Diversified > Online Courses                                                              1\n",
              "Alternative Lending > Online Lenders > Consumer Loans > Education Financing > Loans > Direct Lender\\nHigher Education Tech > Admissions Support for Students > Loans\\nConsumer and SME Loans > Consumer Loans > Education Loans      1\n",
              "K-12 EdTech > B2B2C Learning Solutions > School Curriculum > Multi Subject > Activity Based Learning > Games                                                                                                                         1\n",
              "Pre-K EdTech > B2C Learning Solutions > Digital Storybooks\\nExtreme Entrepreneurs Batches > 2018                                                                                                                                     1\n",
              "Name: Business Models, Length: 293, dtype: int64"
            ]
          },
          "metadata": {
            "tags": []
          },
          "execution_count": 9
        }
      ]
    },
    {
      "cell_type": "code",
      "metadata": {
        "colab": {
          "base_uri": "https://localhost:8080/"
        },
        "id": "o3Bm3DuP97im",
        "outputId": "a317596a-b0c8-4f91-9df3-6f2e7a3a6240"
      },
      "source": [
        "df['Application Category'].value_counts()"
      ],
      "execution_count": null,
      "outputs": [
        {
          "output_type": "execute_result",
          "data": {
            "text/plain": [
              "Education                  202514\n",
              "Tools                      139262\n",
              "Business                    87780\n",
              "Books & Reference           85189\n",
              "Entertainment               76582\n",
              "Productivity                63135\n",
              "Personalization             62694\n",
              "Finance                     60828\n",
              "Photography                 56762\n",
              "Music & Audio               55885\n",
              "Lifestyle                   53462\n",
              "Social                      38896\n",
              "Communication               37143\n",
              "Travel & Local              37100\n",
              "Health & Fitness            36996\n",
              "Shopping                    31776\n",
              "Simulation                  29967\n",
              "News & Magazines            27598\n",
              "Casual                      25771\n",
              "Action                      24972\n",
              "Video Players & Editors     24309\n",
              "Puzzle                      24304\n",
              "Sports                      20217\n",
              "Arcade                      18639\n",
              "Medical                     17691\n",
              "Educational                 14675\n",
              "Food & Drink                14230\n",
              "Maps & Navigation           14028\n",
              "Racing                      13608\n",
              "Adventure                   12716\n",
              "Art & Design                10902\n",
              "Auto & Vehicles             10340\n",
              "Role Playing                 9406\n",
              "Board                        8547\n",
              "Card                         7292\n",
              "Strategy                     6040\n",
              "House & Home                 5731\n",
              "Weather                      5668\n",
              "Word                         4676\n",
              "Events                       3534\n",
              "Dating                       3388\n",
              "Trivia                       3352\n",
              "Beauty                       3286\n",
              "Comics                       2687\n",
              "Casino                       2242\n",
              "Music                        2215\n",
              "Parenting                    2185\n",
              "Libraries & Demo             1955\n",
              "Name: Application Category, dtype: int64"
            ]
          },
          "metadata": {
            "tags": []
          },
          "execution_count": 5
        }
      ]
    },
    {
      "cell_type": "code",
      "metadata": {
        "colab": {
          "base_uri": "https://localhost:8080/"
        },
        "id": "eFkuYHzBBGas",
        "outputId": "16a692ef-35ed-4233-9c8a-b633f3f75f96"
      },
      "source": [
        "df.isna().sum()"
      ],
      "execution_count": null,
      "outputs": [
        {
          "output_type": "execute_result",
          "data": {
            "text/plain": [
              "UUID                       1482\n",
              "month                         0\n",
              "Application Category          0\n",
              "Avg_Session_Time         624443\n",
              "Business Models         1499761\n",
              "City                    1499768\n",
              "Company Stage           1499761\n",
              "Feed Name               1499761\n",
              "Founded Year            1499761\n",
              "Latest Funded Date      1499761\n",
              "MAU                     1384088\n",
              "Open_Rate                624460\n",
              "Overview                1499761\n",
              "Practice Areas          1499761\n",
              "Reach                    451300\n",
              "Region                        0\n",
              "Total Funding (USD)     1499920\n",
              "Total_Session_Time       624510\n",
              "Uninstall_Rate          1149906\n",
              "funding_ind                   0\n",
              "dtype: int64"
            ]
          },
          "metadata": {
            "tags": []
          },
          "execution_count": 8
        }
      ]
    },
    {
      "cell_type": "code",
      "metadata": {
        "id": "S4kmRfPGBiQN"
      },
      "source": [
        ""
      ],
      "execution_count": null,
      "outputs": []
    }
  ]
}